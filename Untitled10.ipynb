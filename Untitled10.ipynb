{
  "nbformat": 4,
  "nbformat_minor": 0,
  "metadata": {
    "colab": {
      "provenance": [],
      "authorship_tag": "ABX9TyM/e+r+/wSBU9znG0YVrJ6Q",
      "include_colab_link": true
    },
    "kernelspec": {
      "name": "python3",
      "display_name": "Python 3"
    },
    "language_info": {
      "name": "python"
    }
  },
  "cells": [
    {
      "cell_type": "markdown",
      "metadata": {
        "id": "view-in-github",
        "colab_type": "text"
      },
      "source": [
        "<a href=\"https://colab.research.google.com/github/han0217/colab/blob/main/Untitled10.ipynb\" target=\"_parent\"><img src=\"https://colab.research.google.com/assets/colab-badge.svg\" alt=\"Open In Colab\"/></a>"
      ]
    },
    {
      "cell_type": "code",
      "execution_count": 2,
      "metadata": {
        "colab": {
          "base_uri": "https://localhost:8080/",
          "height": 136
        },
        "id": "pptCZ61ESc_Q",
        "outputId": "6f3a61aa-d8c3-4302-d740-a31a08682edf"
      },
      "outputs": [
        {
          "output_type": "error",
          "ename": "SyntaxError",
          "evalue": "ignored",
          "traceback": [
            "\u001b[0;36m  File \u001b[0;32m\"<ipython-input-2-acd3f2fc9252>\"\u001b[0;36m, line \u001b[0;32m1\u001b[0m\n\u001b[0;31m    numList []\u001b[0m\n\u001b[0m             ^\u001b[0m\n\u001b[0;31mSyntaxError\u001b[0m\u001b[0;31m:\u001b[0m invalid syntax\n"
          ]
        }
      ],
      "source": [
        "numlist []\n",
        "for i in range(o, 4) :\n",
        "  numlist.append(0)\n",
        "hap = 0\n",
        "\n",
        "for i in range(0, 4) :\n",
        "  numlist[i] = int(input( \" 숫자 : \"))\n",
        "\n",
        "hap = numlist[0] + numlist[1] + numlist[2] + numlist[3]\n",
        "\n",
        "print(\"합계 ==> \", hap)"
      ]
    },
    {
      "cell_type": "code",
      "source": [
        "score = [0,0,0,0,0]\n",
        "sum, avg = 0,0\n",
        "print(\"김안공 선수 경기가 끝났습니다. ~ 짝짝짝\")\n",
        "\n",
        "for i in range(0,5) :\n",
        "  score[i] = int(input(\"평가 점수 ==> \"))\n",
        "  sum = sum + score[i]\n",
        "avg = sum / 5\n",
        "print(\"삼사위원의 평균 점수 ==> \", avg)"
      ],
      "metadata": {
        "colab": {
          "base_uri": "https://localhost:8080/"
        },
        "id": "xp8bt_cManBT",
        "outputId": "5567a09e-09ba-493f-8cac-a6260d2a2b34"
      },
      "execution_count": 5,
      "outputs": [
        {
          "output_type": "stream",
          "name": "stdout",
          "text": [
            "김안공 선수 경기가 끝났습니다. ~ 짝짝짝\n",
            "평가 점수 ==> 120\n",
            "평가 점수 ==> 9\n",
            "평가 점수 ==> 9\n",
            "평가 점수 ==> 9\n",
            "평가 점수 ==> 9\n",
            "삼사위원의 평균 점수 ==>  31.2\n"
          ]
        }
      ]
    },
    {
      "cell_type": "code",
      "source": [
        "import random\n",
        "score = []\n",
        "for i in range(0,10000) :\n",
        "  rock_paper_scissors = [\"가위\", \"바위\", \"보\"]\n",
        "  comA =random.choice(rock_paper_scissors)\n",
        "  comB =random.choice(rock_paper_scissors)\n",
        "  if comA = comB :\n",
        "  score.append(\"비김\")\n",
        "  elif (comA == \"가위\" and comB == \"보\") or \\\n",
        "       (comA == \"바위\" and comB == \"가위\") or \\\n",
        "       (comA == \"보\" and comB == \"바위\") :\n",
        "  elif :\n",
        "    score.append(\"comB\")\n",
        "print(\"10000번 중 컴퓨터 A의 승리 : \", score.count(\"comA\"))\n",
        "print(\"10000번 중 컴퓨터 B의 승리 : \", score.count(\"comB\"))\n",
        "print(\"10000번 중 비긴 경기 : \", score.count(\"비김\"))\n",
        "#print(score.count(\"comA\") + score.count(\"comB\") + score.count(\"비김\"))"
      ],
      "metadata": {
        "colab": {
          "base_uri": "https://localhost:8080/",
          "height": 136
        },
        "id": "Tn4c_2KSgrSi",
        "outputId": "65baa774-6cf5-432b-ce9e-ffd4ca2b0293"
      },
      "execution_count": 7,
      "outputs": [
        {
          "output_type": "error",
          "ename": "SyntaxError",
          "evalue": "ignored",
          "traceback": [
            "\u001b[0;36m  File \u001b[0;32m\"<ipython-input-7-765e88167f5d>\"\u001b[0;36m, line \u001b[0;32m7\u001b[0m\n\u001b[0;31m    if comA = comB :\u001b[0m\n\u001b[0m            ^\u001b[0m\n\u001b[0;31mSyntaxError\u001b[0m\u001b[0;31m:\u001b[0m invalid syntax\n"
          ]
        }
      ]
    }
  ]
}