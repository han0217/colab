{
  "nbformat": 4,
  "nbformat_minor": 0,
  "metadata": {
    "colab": {
      "provenance": [],
      "authorship_tag": "ABX9TyPeHGdQkGNuEkeMFY8JeFrw",
      "include_colab_link": true
    },
    "kernelspec": {
      "name": "python3",
      "display_name": "Python 3"
    },
    "language_info": {
      "name": "python"
    }
  },
  "cells": [
    {
      "cell_type": "markdown",
      "metadata": {
        "id": "view-in-github",
        "colab_type": "text"
      },
      "source": [
        "<a href=\"https://colab.research.google.com/github/han0217/colab/blob/main/Untitled11.ipynb\" target=\"_parent\"><img src=\"https://colab.research.google.com/assets/colab-badge.svg\" alt=\"Open In Colab\"/></a>"
      ]
    },
    {
      "cell_type": "code",
      "execution_count": 2,
      "metadata": {
        "colab": {
          "base_uri": "https://localhost:8080/"
        },
        "id": "tDioBc15AM6x",
        "outputId": "588bef82-bf54-4b1f-b5eb-e63b29225d4c"
      },
      "outputs": [
        {
          "output_type": "stream",
          "name": "stdout",
          "text": [
            "원본 문자열 ==> 1\n",
            "변환 문자열 ==> 1"
          ]
        }
      ],
      "source": [
        "text = input('원본 문자열 ==> ')\n",
        "print('변환 문자열 ==> ', end='')\n",
        "\n",
        "for i in range(len(text)):\n",
        "    if(text[i].isupper() == True):\n",
        "        print(text[i].lower(), end='')\n",
        "    else:\n",
        "        print(text[i].upper(), end='')\n",
        "# kartdrift.nexon.com"
      ]
    },
    {
      "cell_type": "code",
      "source": [
        "text = input('원본 문자열 ==> ')\n",
        "\n",
        "print('반대 문자열 ==> ', end='')\n",
        "for i in range(1, len(text) + 1):\n",
        "    print(text[-i], end='')\n",
        "# kartdrift.nexon.com"
      ],
      "metadata": {
        "colab": {
          "base_uri": "https://localhost:8080/"
        },
        "id": "Z8QpmMaLAcZG",
        "outputId": "62c1e67a-2ff4-4108-b4c9-3d57794dc9ec"
      },
      "execution_count": 3,
      "outputs": [
        {
          "output_type": "stream",
          "name": "stdout",
          "text": [
            "원본 문자열 ==> 다시 합창합시다\n",
            "반대 문자열 ==> 다시합창합 시다"
          ]
        }
      ]
    },
    {
      "cell_type": "code",
      "source": [
        "text1 = input('첫 번째 문자열 ==> ')\n",
        "text2 = input('두 번째 문자열 ==> ')\n",
        "\n",
        "print('두 문자열의 길이 차이는', len(text1) - len(text2), '입니다.')\n",
        "# kartdrift.nexon.com"
      ],
      "metadata": {
        "colab": {
          "base_uri": "https://localhost:8080/"
        },
        "id": "0kTVevoyAeKO",
        "outputId": "8a7d8b18-36cb-432b-aeb8-853b8b9f622f"
      },
      "execution_count": 4,
      "outputs": [
        {
          "output_type": "stream",
          "name": "stdout",
          "text": [
            "첫 번째 문자열 ==> 월화수목\n",
            "두 번째 문자열 ==> 금토일\n",
            "두 문자열의 길이 차이는 1 입니다.\n"
          ]
        }
      ]
    },
    {
      "cell_type": "code",
      "source": [
        "pound = float(input('파운드(lb)를 입력하세요 : '))\n",
        "print(pound, '파운드(lb)는', round(pound * 0.453592, 5), '킬로그램(kg)입니다.')\n",
        "\n",
        "kg = float(input('킬로그램(kg)을 입력하세요 : '))\n",
        "print(kg, '킬로그램(kg)는', round(kg * 2.204623, 5), '파운드(lb)입니다.')\n",
        "# kartdrift.nexon.com"
      ],
      "metadata": {
        "colab": {
          "base_uri": "https://localhost:8080/"
        },
        "id": "rSS23IHcApNW",
        "outputId": "7c412ea5-3954-4145-962f-ebf348fbe630"
      },
      "execution_count": 5,
      "outputs": [
        {
          "output_type": "stream",
          "name": "stdout",
          "text": [
            "파운드(lb)를 입력하세요 : 30\n",
            "30.0 파운드(lb)는 13.60776 킬로그램(kg)입니다.\n",
            "킬로그램(kg)을 입력하세요 : 16\n",
            "16.0 킬로그램(kg)는 35.27397 파운드(lb)입니다.\n"
          ]
        }
      ]
    }
  ]
}