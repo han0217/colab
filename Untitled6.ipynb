{
  "nbformat": 4,
  "nbformat_minor": 0,
  "metadata": {
    "colab": {
      "provenance": [],
      "authorship_tag": "ABX9TyMIh8kzBo8yMi/Sr6HYo3jb",
      "include_colab_link": true
    },
    "kernelspec": {
      "name": "python3",
      "display_name": "Python 3"
    },
    "language_info": {
      "name": "python"
    }
  },
  "cells": [
    {
      "cell_type": "markdown",
      "metadata": {
        "id": "view-in-github",
        "colab_type": "text"
      },
      "source": [
        "<a href=\"https://colab.research.google.com/github/han0217/colab/blob/main/Untitled6.ipynb\" target=\"_parent\"><img src=\"https://colab.research.google.com/assets/colab-badge.svg\" alt=\"Open In Colab\"/></a>"
      ]
    },
    {
      "cell_type": "code",
      "source": [
        "a = 99\n",
        "if a <100 :\n",
        "  print(\"100보다 작습니다.\")"
      ],
      "metadata": {
        "colab": {
          "base_uri": "https://localhost:8080/"
        },
        "id": "H1PaXVC12k3y",
        "outputId": "55c78144-852d-49c4-f88c-fd869cf609ac"
      },
      "execution_count": null,
      "outputs": [
        {
          "output_type": "stream",
          "name": "stdout",
          "text": [
            "100보다 작습니다.\n"
          ]
        }
      ]
    },
    {
      "cell_type": "code",
      "source": [
        "a = 200\n",
        "if a > 100 :\n",
        "  print(\"100보다 \")\n",
        "  print(\"큽니다.\")\n",
        "  print(\"프로그램 끝\")"
      ],
      "metadata": {
        "colab": {
          "base_uri": "https://localhost:8080/"
        },
        "id": "Eo3QBoB53kFz",
        "outputId": "e698c5f9-c341-43e6-ce12-fb4113d2c4bb"
      },
      "execution_count": null,
      "outputs": [
        {
          "output_type": "stream",
          "name": "stdout",
          "text": [
            "100보다 \n",
            "큽니다.\n",
            "프로그램 끝\n"
          ]
        }
      ]
    },
    {
      "cell_type": "code",
      "source": [
        "num = 200\n",
        "if num < 100 :\n",
        "  print(\"100보다 작군요.\")\n",
        "else :\n",
        "  print(\"100보다 크군요.\")"
      ],
      "metadata": {
        "colab": {
          "base_uri": "https://localhost:8080/"
        },
        "id": "6-3TNVUm4PR5",
        "outputId": "6f287281-96bd-4af1-d526-45b3810dd4bd"
      },
      "execution_count": null,
      "outputs": [
        {
          "output_type": "stream",
          "name": "stdout",
          "text": [
            "100보다 크군요.\n"
          ]
        }
      ]
    },
    {
      "cell_type": "code",
      "source": [
        "num = int(input(\"정수를 입력 : \"))\n",
        "if (num % 2) == 0 :\n",
        "  print(num, \"짝수입니다.\")\n",
        "else :\n",
        "  print(num, \"홀수입니다.\")"
      ],
      "metadata": {
        "colab": {
          "base_uri": "https://localhost:8080/"
        },
        "id": "gyX4XwLl5gbc",
        "outputId": "2886cc70-ba03-40da-c80b-5c1f61b231f4"
      },
      "execution_count": null,
      "outputs": [
        {
          "output_type": "stream",
          "name": "stdout",
          "text": [
            "정수를 입력 : 20000\n",
            "20000 짝수입니다.\n"
          ]
        }
      ]
    },
    {
      "cell_type": "code",
      "source": [
        "a = int(input(\"숫자를 입력 ==> \"))\n",
        "\n",
        "if a > 100 :\n",
        "  if a < 1000 :\n",
        "    print(\"100보다 크고 1000 보다 작군요.\")\n",
        "  else : \n",
        "    print(\"와~1000보다 크군요.\")\n",
        "else :\n",
        "  print(\"음~ 100보다 작군요.\")\n"
      ],
      "metadata": {
        "colab": {
          "base_uri": "https://localhost:8080/"
        },
        "id": "-f2g1ftr7UTn",
        "outputId": "8387ad72-fa09-4deb-8e1d-fa0df7a5d54d"
      },
      "execution_count": null,
      "outputs": [
        {
          "output_type": "stream",
          "name": "stdout",
          "text": [
            "숫자를 입력 ==> 1000\n",
            "와~1000보다 크군요.\n"
          ]
        }
      ]
    },
    {
      "cell_type": "code",
      "source": [
        "score = int(input(\"점수를 입력 == >\"))\n",
        "\n",
        "if score >= 90 :\n",
        "  print(\"A\", end='')\n",
        "else :\n",
        "  if score >= 80 :\n",
        "    print(\"B\", end='')\n",
        "  else :\n",
        "    if score >= 70 :\n",
        "      print(\"C\", end='')\n",
        "    else :\n",
        "      if score >= 60 :\n",
        "        print(\"D\", end='')\n",
        "      else :\n",
        "        print(\"F\", end='')\n",
        "print(\"학점입니다.\")"
      ],
      "metadata": {
        "colab": {
          "base_uri": "https://localhost:8080/"
        },
        "id": "WCmpeqUs_ynu",
        "outputId": "23ffeec9-61f8-4950-8724-9472f73ff9cf"
      },
      "execution_count": null,
      "outputs": [
        {
          "output_type": "stream",
          "name": "stdout",
          "text": [
            "점수를 입력 == >90\n",
            "A학점입니다.\n"
          ]
        }
      ]
    },
    {
      "cell_type": "code",
      "source": [
        "score = int(input(\"점수를 입력 ==> \"))\n",
        "\n",
        "if score >= 90 :\n",
        "  print(\"A\", end='')\n",
        "elif score >= 80 :\n",
        "  print(\"B\", end='')\n",
        "elif score >= 70 :\n",
        "  print(\"C\", end='')\n",
        "elif score >= 60 :\n",
        "  print(\"D\", end='')\n",
        "else :\n",
        "  print(\"F\", end='')\n",
        "  print(\"학점입니다.\")"
      ],
      "metadata": {
        "colab": {
          "base_uri": "https://localhost:8080/"
        },
        "id": "7yRxA4ySCCPT",
        "outputId": "3596c1ee-5467-4438-b343-c7cfb4c5ffe1"
      },
      "execution_count": null,
      "outputs": [
        {
          "output_type": "stream",
          "name": "stdout",
          "text": [
            "점수를 입력 ==> 5\n",
            "F학점입니다.\n"
          ]
        }
      ]
    },
    {
      "cell_type": "code",
      "source": [
        " import random\n",
        "\n",
        " rnd = random.randint(1,45)\n",
        " lunch = random.choice([\"짜장면\", \"라면\", \"김밥\", \"짬뽕\"])\n",
        " print(rnd, lunch)"
      ],
      "metadata": {
        "colab": {
          "base_uri": "https://localhost:8080/"
        },
        "id": "edugMh3lEDK3",
        "outputId": "295ee465-d2e3-4917-e4ba-662949155f91"
      },
      "execution_count": null,
      "outputs": [
        {
          "output_type": "stream",
          "name": "stdout",
          "text": [
            "36 짜장면\n"
          ]
        }
      ]
    },
    {
      "cell_type": "code",
      "source": [
        "import random\n",
        "\n",
        "com_player = random.choice([\"가위\", \"바위\", \"보\"])\n",
        "print(\" ** [가위/바위/보] 게임 **\")\n",
        "user = input(\"가위/바위/보 중 하나를 입력 : \")\n",
        "\n",
        "if com_player == user :\n",
        "  print(\"비겼다. ^^??\")\n",
        "elif\n",
        "\n",
        "else :\n",
        "  print(\"졌다. ㅜ.ㅜ\")"
      ],
      "metadata": {
        "id": "69GXAwYGG_7x"
      },
      "execution_count": null,
      "outputs": []
    },
    {
      "cell_type": "code",
      "source": [
        "import random\n",
        "\n",
        "com_player = random.choice([\"가위\", \"바위\", \"보\"])\n",
        "print(\" ** [가위/바위/보] 게임 **\")\n",
        "user = input(\"가위/바위/보 중 하나를 입력 : \")\n",
        "\n",
        "if com_player == user :\n",
        "  print(\"비겼다. ^^??\")\n",
        "elif ((com_player == \"가위\") and (user == \"바위\")) or \\\n",
        "((com_player == \"바위\") and (user == \"보\")) or \\\n",
        "((com_player == \"보\") and (user == \"가위\"))\n",
        "  print(\"이겼다.\")\n",
        "else :\n",
        "  print(\"졌다. ㅜ.ㅜ\")"
      ],
      "metadata": {
        "id": "u_OHXjKvYIlG"
      },
      "execution_count": null,
      "outputs": []
    },
    {
      "cell_type": "code",
      "source": [],
      "metadata": {
        "id": "AyEe9AQFbqnc"
      },
      "execution_count": null,
      "outputs": []
    }
  ]
}