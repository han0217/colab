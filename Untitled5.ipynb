{
  "nbformat": 4,
  "nbformat_minor": 0,
  "metadata": {
    "colab": {
      "name": "Untitled5.ipynb",
      "provenance": [],
      "authorship_tag": "ABX9TyNJ94kiSYMrDS8bMYh+E+Zg",
      "include_colab_link": true
    },
    "kernelspec": {
      "name": "python3",
      "display_name": "Python 3"
    },
    "language_info": {
      "name": "python"
    }
  },
  "cells": [
    {
      "cell_type": "markdown",
      "metadata": {
        "id": "view-in-github",
        "colab_type": "text"
      },
      "source": [
        "<a href=\"https://colab.research.google.com/github/han0217/colab/blob/main/Untitled5.ipynb\" target=\"_parent\"><img src=\"https://colab.research.google.com/assets/colab-badge.svg\" alt=\"Open In Colab\"/></a>"
      ]
    },
    {
      "cell_type": "code",
      "execution_count": null,
      "metadata": {
        "id": "hGERUt81RC0A"
      },
      "outputs": [],
      "source": [
        "text = \"Python\"\n",
        "change_text = text[0].lower() + text[1].upper() + text[2].upper () + text[3].upper() + text[4].uper() + text[5].upper()\n",
        "print(\"원본 문자열은 ==>\" , text)\n",
        "print(\"원본 문자열은 ==>\" , chabge_text)"
      ]
    },
    {
      "cell_type": "code",
      "source": [
        "ss = \"Ptyhon\"\n",
        "print(\"원본 문자열 ==>\", ss)\n",
        "\n",
        "ss2 = \"\"\n",
        "\n",
        "ss2 += ss[0]. lpwer()\n",
        "ss2 += ss[1]. upper()\n",
        "ss2 += ss[2]. upper()\n",
        "ss2 += ss[3]. upper()\n",
        "ss2 += ss[4]. upper()\n",
        "ss2 += ss[5]. upper()\n",
        "\n",
        "print(\"변환 문자열 ==>\", end='')\n",
        "print(ss2)"
      ],
      "metadata": {
        "id": "SrKChE7fU1NM"
      },
      "execution_count": null,
      "outputs": []
    },
    {
      "cell_type": "code",
      "source": [
        "#!pip3 install CoabTurtle\n",
        "import ColaTurtle.Turtle"
      ],
      "metadata": {
        "id": "PH7ufE9cXCls"
      },
      "execution_count": 17,
      "outputs": []
    }
  ]
}