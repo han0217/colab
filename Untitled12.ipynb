{
  "nbformat": 4,
  "nbformat_minor": 0,
  "metadata": {
    "colab": {
      "provenance": [],
      "authorship_tag": "ABX9TyPaxpPSnr4P27atLptBjtxQ",
      "include_colab_link": true
    },
    "kernelspec": {
      "name": "python3",
      "display_name": "Python 3"
    },
    "language_info": {
      "name": "python"
    }
  },
  "cells": [
    {
      "cell_type": "markdown",
      "metadata": {
        "id": "view-in-github",
        "colab_type": "text"
      },
      "source": [
        "<a href=\"https://colab.research.google.com/github/han0217/colab/blob/main/Untitled12.ipynb\" target=\"_parent\"><img src=\"https://colab.research.google.com/assets/colab-badge.svg\" alt=\"Open In Colab\"/></a>"
      ]
    },
    {
      "cell_type": "code",
      "source": [
        "pound = float(input('파운드(lb)를 입력하세요 : '))\n",
        "print(pound, '파운드(lb)는', round(pound * 0.453592, 5), '킬로그램(kg)입니다.')\n",
        "\n",
        "kg = float(input('킬로그램(kg)을 입력하세요 : '))\n",
        "print(kg, '킬로그램(kg)는', round(kg * 2.204623, 5), '파운드(lb)입니다.')\n",
        "# kartdrift.nexon.com"
      ],
      "metadata": {
        "colab": {
          "base_uri": "https://localhost:8080/"
        },
        "id": "tm5DnC6Vn9Gs",
        "outputId": "161449d0-63bf-4c38-d233-a646064eea9f"
      },
      "execution_count": 10,
      "outputs": [
        {
          "output_type": "stream",
          "name": "stdout",
          "text": [
            "파운드(lb)를 입력하세요 : 15\n",
            "15.0 파운드(lb)는 6.80388 킬로그램(kg)입니다.\n",
            "킬로그램(kg)을 입력하세요 : 15\n",
            "15.0 킬로그램(kg)는 33.06935 파운드(lb)입니다.\n"
          ]
        }
      ]
    }
  ]
}