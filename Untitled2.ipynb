{
  "nbformat": 4,
  "nbformat_minor": 0,
  "metadata": {
    "colab": {
      "name": "Untitled2.ipynb",
      "provenance": [],
      "authorship_tag": "ABX9TyN3AnLWyt/oEY0yy8qK5juk",
      "include_colab_link": true
    },
    "kernelspec": {
      "name": "python3",
      "display_name": "Python 3"
    },
    "language_info": {
      "name": "python"
    }
  },
  "cells": [
    {
      "cell_type": "markdown",
      "metadata": {
        "id": "view-in-github",
        "colab_type": "text"
      },
      "source": [
        "<a href=\"https://colab.research.google.com/github/han0217/colab/blob/main/Untitled2.ipynb\" target=\"_parent\"><img src=\"https://colab.research.google.com/assets/colab-badge.svg\" alt=\"Open In Colab\"/></a>"
      ]
    },
    {
      "cell_type": "markdown",
      "source": [
        "*3장 연산자\n",
        "    형성평가 - 파운드를 킬로그램으로 *변경*"
      ],
      "metadata": {
        "id": "x5AWvV0D0CXo"
      }
    },
    {
      "cell_type": "code",
      "execution_count": 7,
      "metadata": {
        "colab": {
          "base_uri": "https://localhost:8080/"
        },
        "id": "o83TGkPvy3J1",
        "outputId": "47c5803e-1484-42d5-a284-ffa0d98aca54"
      },
      "outputs": [
        {
          "output_type": "stream",
          "name": "stdout",
          "text": [
            "파운드를 입력하세요 : 15\n",
            "15.0 파운드는 6.804 킬로그램입니다.\n",
            "킬로그램을 입력하세요 : 15\n",
            "15.0 킬로그램을 33.069 파운드입니다.\n"
          ]
        }
      ],
      "source": [
        "pound = float(input(\"파운드를 입력하세요 : \"))\n",
        "kg = pound * 0.453592\n",
        "print(pound, \"파운드는\", round(kg, 3), \"킬로그램입니다.\")\n",
        "kg = float(input(\"킬로그램을 입력하세요 : \"))\n",
        "pound = kg * 2.204623\n",
        "print(kg,\"킬로그램을\", round(pound, 3), \"파운드입니다.\")"
      ]
    },
    {
      "cell_type": "markdown",
      "source": [],
      "metadata": {
        "id": "6C4Mt6d726S3"
      }
    },
    {
      "cell_type": "code",
      "source": [
        "\n",
        "sell, buy = 0,0\n",
        "#삼각김밥 구매\n",
        "buy += (900*10)\n",
        "#바나나맛 우유 판매\n",
        "sell += (1800*2)\n",
        "#도시락 구매\n",
        "buy += (3500*5)\n",
        "#도시락 판매\n",
        "sell += (4000*4)\n",
        "#콜라 판매\n",
        "sell += (1500*1)\n",
        "#새우깡 판매\n",
        "sell += (2000*4)\n",
        "#캔커피 판매\n",
        "sell += (1800*5)\n",
        "#매출액\n",
        "print('오늘 총 매출액은',sell-buy,'원입니다')"
      ],
      "metadata": {
        "colab": {
          "base_uri": "https://localhost:8080/"
        },
        "id": "JzL6S5tj3j6f",
        "outputId": "a5866970-9ee5-4afb-a49e-8263a5f590d8"
      },
      "execution_count": 16,
      "outputs": [
        {
          "output_type": "stream",
          "name": "stdout",
          "text": [
            "오늘 총 매출액은 11600 원입니다\n"
          ]
        }
      ]
    }
  ]
}