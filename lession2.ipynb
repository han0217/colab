{
  "nbformat": 4,
  "nbformat_minor": 0,
  "metadata": {
    "colab": {
      "name": "lession2.ipynb",
      "provenance": [],
      "authorship_tag": "ABX9TyPNQ6NcTY1/tk+xizJSu4mt",
      "include_colab_link": true
    },
    "kernelspec": {
      "name": "python3",
      "display_name": "Python 3"
    },
    "language_info": {
      "name": "python"
    }
  },
  "cells": [
    {
      "cell_type": "markdown",
      "metadata": {
        "id": "view-in-github",
        "colab_type": "text"
      },
      "source": [
        "<a href=\"https://colab.research.google.com/github/han0217/colab/blob/main/lession2.ipynb\" target=\"_parent\"><img src=\"https://colab.research.google.com/assets/colab-badge.svg\" alt=\"Open In Colab\"/></a>"
      ]
    },
    {
      "cell_type": "code",
      "execution_count": null,
      "metadata": {
        "id": "3vChCxxuBfpK"
      },
      "outputs": [],
      "source": [
        ""
      ]
    },
    {
      "cell_type": "markdown",
      "source": [
        "＊ 파이썬 2장\n",
        " * 변수와 input()함수 "
      ],
      "metadata": {
        "id": "eowCiVlYB3MR"
      }
    },
    {
      "cell_type": "code",
      "source": [
        "a = 100\n",
        "b = 200\n",
        "c = a+b\n",
        "d = a-b\n",
        "e = a*b\n",
        "f = a/b\n",
        "print(a,\"+\", b, \"=\", c)\n",
        "print(a,\"-\", b, \"=\", d)\n",
        "print(a,\"*\", b, \"=\", e)\n",
        "print(a,\"/\", b, \"=\", f)"
      ],
      "metadata": {
        "colab": {
          "base_uri": "https://localhost:8080/"
        },
        "id": "cEHPCClDCP1A",
        "outputId": "a76d0a97-1f33-4f3c-8c52-e3c184abc62a"
      },
      "execution_count": 6,
      "outputs": [
        {
          "output_type": "stream",
          "name": "stdout",
          "text": [
            "100 + 200 = 300\n",
            "100 - 200 = -100\n",
            "100 * 200 = 20000\n",
            "100 / 200 = 0.5\n"
          ]
        }
      ]
    },
    {
      "cell_type": "markdown",
      "source": [
        ""
      ],
      "metadata": {
        "id": "qnn7yJHWGnWV"
      }
    },
    {
      "cell_type": "code",
      "source": [
        "num1 = input(\"첫번째 숫자 입력 ==>\" )\n",
        "num2 = input(\"두번째 숫자 입력 ==>\" )\n",
        "result = int(num1) + int(num2)\n",
        "print(num1, \"+\", num2, \"=\", result)"
      ],
      "metadata": {
        "colab": {
          "base_uri": "https://localhost:8080/"
        },
        "id": "ImsPPl7FGoAp",
        "outputId": "9d6167e1-556e-477f-f5c6-98dbb7b86c34"
      },
      "execution_count": 13,
      "outputs": [
        {
          "output_type": "stream",
          "name": "stdout",
          "text": [
            "첫번째 숫자 입력 ==>100\n",
            "두번째 숫자 입력 ==>200\n",
            "100 + 200 = 300\n"
          ]
        }
      ]
    },
    {
      "cell_type": "code",
      "source": [
        "num1 = input(\"첫번째 숫자 입력 ==>\" )\n",
        "num2 = input(\"두번째 숫자 입력 ==>\" )\n",
        "result = int(num1) - int(num2)\n",
        "print(num1, \"-\", num2, \"=\", result)"
      ],
      "metadata": {
        "colab": {
          "base_uri": "https://localhost:8080/"
        },
        "id": "5pe6vOocI4cs",
        "outputId": "0e7293c9-44b5-471d-f6b1-f18d52c8de67"
      },
      "execution_count": 16,
      "outputs": [
        {
          "output_type": "stream",
          "name": "stdout",
          "text": [
            "첫번째 숫자 입력 ==>100\n",
            "두번째 숫자 입력 ==>200\n",
            "100 - 200 = -100\n"
          ]
        }
      ]
    },
    {
      "cell_type": "code",
      "source": [
        "num1 = input(\"첫번째 숫자 입력 ==>\" )\n",
        "num2 = input(\"두번째 숫자 입력 ==>\" )\n",
        "result = int(num1) * int(num2)\n",
        "print(num1, \"*\", num2, \"=\", result)"
      ],
      "metadata": {
        "colab": {
          "base_uri": "https://localhost:8080/"
        },
        "id": "cr2Q1xzjJJv1",
        "outputId": "9aa3bb26-bbc8-4a55-cf92-80304e509fee"
      },
      "execution_count": 17,
      "outputs": [
        {
          "output_type": "stream",
          "name": "stdout",
          "text": [
            "첫번째 숫자 입력 ==>100\n",
            "두번째 숫자 입력 ==>200\n",
            "100 * 200 = 20000\n"
          ]
        }
      ]
    },
    {
      "cell_type": "code",
      "source": [
        "num1 = input(\"첫번째 숫자 입력 ==>\" )\n",
        "num2 = input(\"두번째 숫자 입력 ==>\" )\n",
        "result = int(num1) / int(num2)\n",
        "print(num1, \"/\", num2, \"=\", result)"
      ],
      "metadata": {
        "colab": {
          "base_uri": "https://localhost:8080/"
        },
        "id": "ykZ5dHWXJNmG",
        "outputId": "ca6c2615-b54c-421e-f258-c477483155fb"
      },
      "execution_count": 18,
      "outputs": [
        {
          "output_type": "stream",
          "name": "stdout",
          "text": [
            "첫번째 숫자 입력 ==>100\n",
            "두번째 숫자 입력 ==>200\n",
            "100 / 200 = 0.5\n"
          ]
        }
      ]
    },
    {
      "cell_type": "code",
      "source": [
        "print(\"** 논술형 문제 - input()함수를 이용한 간단한 계산기 ** \")\n",
        "num1 = float(input(\"첫번째 숫자를 입력 : \"))\n",
        "num2 = float(input(\"두번째 숫자를 입력 : \"))\n",
        "print(num1, \"+\", num2, \"=\", num1 + num2)\n",
        "print(num1, \"-\", num2, \"=\", num1 - num2)\n",
        "print(num1, \"X\", num2, \"=\", num1 * num2)\n",
        "print(num1, \"/\", num2, \"=\", num1 / num2)\n"
      ],
      "metadata": {
        "colab": {
          "base_uri": "https://localhost:8080/"
        },
        "id": "YXYp7IIGJcRw",
        "outputId": "decdd6ea-bd73-448f-dbb1-642a5e2eea62"
      },
      "execution_count": 20,
      "outputs": [
        {
          "output_type": "stream",
          "name": "stdout",
          "text": [
            "** 논술형 문제 - input()함수를 이용한 간단한 계산기 ** \n",
            "첫번째 숫자를 입력 : 100\n",
            "두번째 숫자를 입력 : 200\n",
            "100.0 + 200.0 = 300.0\n",
            "100.0 - 200.0 = -100.0\n",
            "100.0 X 200.0 = 20000.0\n",
            "100.0 / 200.0 = 0.5\n"
          ]
        }
      ]
    },
    {
      "cell_type": "markdown",
      "source": [
        "* 문자열 예제"
      ],
      "metadata": {
        "id": "0O1-5IkgPrd7"
      }
    },
    {
      "cell_type": "code",
      "source": [
        "name = input(\"이름 ==> \")\n",
        "tel_number = input(\"전화번호 ==> \")\n",
        "print(\"제 이름은\", name, \"연락처는\", tel_number, \"입니다.\")"
      ],
      "metadata": {
        "colab": {
          "base_uri": "https://localhost:8080/"
        },
        "id": "DPDXWiXCPth6",
        "outputId": "6abf4ce9-116a-44a5-b711-474db4c9d6ee"
      },
      "execution_count": 22,
      "outputs": [
        {
          "output_type": "stream",
          "name": "stdout",
          "text": [
            "이름 ==> 개하비\n",
            "전화번호 ==> 010-1234-5678\n",
            "제 이름은 개하비 연락처는 010-1234-5678 입니다.\n"
          ]
        }
      ]
    },
    {
      "cell_type": "code",
      "source": [
        "print(\"## 택배를 보내기 위한 정보를 입력하세요. ##\")\n",
        "name = input('받는 사람 : ')\n",
        "address = input('주소 : ')\n",
        "weight = int(input('무게(g) : '))\n",
        "print('** 받는 사람 >>', name)\n",
        "print('** 주소 >>', address)\n",
        "print('** 배송비 >>', weight*5, '원')"
      ],
      "metadata": {
        "colab": {
          "base_uri": "https://localhost:8080/"
        },
        "id": "eR2tshKxQtei",
        "outputId": "f04a9be1-59d6-407c-b52e-e57a77f34800"
      },
      "execution_count": 31,
      "outputs": [
        {
          "output_type": "stream",
          "name": "stdout",
          "text": [
            "## 택배를 보내기 위한 정보를 입력하세요. ##\n",
            "받는 사람 : 김난생\n",
            "주소 : 서울 영등포구 여의도동 88\n",
            "무게(g) : 721\n",
            "** 받는 사람 >> 김난생\n",
            "** 주소 >> 서울 영등포구 여의도동 88\n",
            "** 배송비 >> 3605 원\n"
          ]
        }
      ]
    },
    {
      "cell_type": "code",
      "source": [
        "a = 100\n",
        "b = 200\n",
        "c = a+b\n",
        "d = a-b\n",
        "e = a*b\n",
        "f = a/b\n",
        "print(a,\"+\", b, \"=\", c)\n",
        "print(a,\"-\", b, \"=\", d)\n",
        "print(a,\"*\", b, \"=\", e)\n",
        "print(a,\"/\", b, \"=\", f)"
      ],
      "metadata": {
        "colab": {
          "base_uri": "https://localhost:8080/"
        },
        "id": "Z4NdAl6rTMFc",
        "outputId": "cb7dbfe6-00e2-4989-83cb-811637e82ba0"
      },
      "execution_count": 33,
      "outputs": [
        {
          "output_type": "stream",
          "name": "stdout",
          "text": [
            "100 + 200 = 300\n",
            "100 - 200 = -100\n",
            "100 * 200 = 20000\n",
            "100 / 200 = 0.5\n"
          ]
        }
      ]
    },
    {
      "cell_type": "code",
      "source": [
        "a = int(input('숫자 1 >>'))\n",
        "b = int(input('숫자 2 >>'))\n",
        "print(a, \"+\", b, \"=\", a+b)\n",
        "print(a, \"-\", b, \"=\", a-b)\n",
        "print(a, \"*\", b, \"=\", a*b)\n",
        "print(a, \"/\", b, \"=\", float(a/b))\n",
        "print(a, \"//\", b, \"=\", a//b)\n",
        "print(a, \"%\", b, \"=\", a%b)\n",
        "print(a, \"**\", b, \"=\", a**b)"
      ],
      "metadata": {
        "colab": {
          "base_uri": "https://localhost:8080/"
        },
        "id": "EJL0KL8vTyWX",
        "outputId": "45e4029e-721d-4869-feb8-ae2becd73539"
      },
      "execution_count": 38,
      "outputs": [
        {
          "output_type": "stream",
          "name": "stdout",
          "text": [
            "숫자 1 >>10\n",
            "숫자 2 >>3\n",
            "10 + 3 = 13\n",
            "10 - 3 = 7\n",
            "10 * 3 = 30\n",
            "10 / 3 = 3.3333333333333335\n",
            "10 // 3 = 3\n",
            "10 % 3 = 1\n",
            "10 ** 3 = 1000\n"
          ]
        }
      ]
    },
    {
      "cell_type": "code",
      "source": [
        ""
      ],
      "metadata": {
        "id": "p6EviJE1WtLs"
      },
      "execution_count": null,
      "outputs": []
    }
  ]
}