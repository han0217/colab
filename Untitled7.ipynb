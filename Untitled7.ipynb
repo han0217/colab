{
  "nbformat": 4,
  "nbformat_minor": 0,
  "metadata": {
    "colab": {
      "provenance": [],
      "authorship_tag": "ABX9TyN5NWtTIA4fZdTy+SnX/7r9",
      "include_colab_link": true
    },
    "kernelspec": {
      "name": "python3",
      "display_name": "Python 3"
    },
    "language_info": {
      "name": "python"
    }
  },
  "cells": [
    {
      "cell_type": "markdown",
      "metadata": {
        "id": "view-in-github",
        "colab_type": "text"
      },
      "source": [
        "<a href=\"https://colab.research.google.com/github/han0217/colab/blob/main/Untitled7.ipynb\" target=\"_parent\"><img src=\"https://colab.research.google.com/assets/colab-badge.svg\" alt=\"Open In Colab\"/></a>"
      ]
    },
    {
      "cell_type": "code",
      "execution_count": 6,
      "metadata": {
        "colab": {
          "base_uri": "https://localhost:8080/"
        },
        "id": "kgpryA49Tzou",
        "outputId": "3c86415f-44c3-4268-eae1-4d5ef98e7d36"
      },
      "outputs": [
        {
          "output_type": "stream",
          "name": "stdout",
          "text": [
            "2 X 1 = 2\n",
            "2 X 2 = 4\n",
            "2 X 3 = 6\n",
            "2 X 4 = 8\n",
            "2 X 5 = 10\n",
            "2 X 6 = 12\n",
            "2 X 7 = 14\n",
            "2 X 8 = 16\n",
            "2 X 9 = 18\n",
            "\n",
            "3 X 1 = 3\n",
            "3 X 2 = 6\n",
            "3 X 3 = 9\n",
            "3 X 4 = 12\n",
            "3 X 5 = 15\n",
            "3 X 6 = 18\n",
            "3 X 7 = 21\n",
            "3 X 8 = 24\n",
            "3 X 9 = 27\n",
            "\n",
            "4 X 1 = 4\n",
            "4 X 2 = 8\n",
            "4 X 3 = 12\n",
            "4 X 4 = 16\n",
            "4 X 5 = 20\n",
            "4 X 6 = 24\n",
            "4 X 7 = 28\n",
            "4 X 8 = 32\n",
            "4 X 9 = 36\n",
            "\n",
            "5 X 1 = 5\n",
            "5 X 2 = 10\n",
            "5 X 3 = 15\n",
            "5 X 4 = 20\n",
            "5 X 5 = 25\n",
            "5 X 6 = 30\n",
            "5 X 7 = 35\n",
            "5 X 8 = 40\n",
            "5 X 9 = 45\n",
            "\n",
            "6 X 1 = 6\n",
            "6 X 2 = 12\n",
            "6 X 3 = 18\n",
            "6 X 4 = 24\n",
            "6 X 5 = 30\n",
            "6 X 6 = 36\n",
            "6 X 7 = 42\n",
            "6 X 8 = 48\n",
            "6 X 9 = 54\n",
            "\n",
            "7 X 1 = 7\n",
            "7 X 2 = 14\n",
            "7 X 3 = 21\n",
            "7 X 4 = 28\n",
            "7 X 5 = 35\n",
            "7 X 6 = 42\n",
            "7 X 7 = 49\n",
            "7 X 8 = 56\n",
            "7 X 9 = 63\n",
            "\n",
            "8 X 1 = 8\n",
            "8 X 2 = 16\n",
            "8 X 3 = 24\n",
            "8 X 4 = 32\n",
            "8 X 5 = 40\n",
            "8 X 6 = 48\n",
            "8 X 7 = 56\n",
            "8 X 8 = 64\n",
            "8 X 9 = 72\n",
            "\n",
            "9 X 1 = 9\n",
            "9 X 2 = 18\n",
            "9 X 3 = 27\n",
            "9 X 4 = 36\n",
            "9 X 5 = 45\n",
            "9 X 6 = 54\n",
            "9 X 7 = 63\n",
            "9 X 8 = 72\n",
            "9 X 9 = 81\n",
            "\n"
          ]
        }
      ],
      "source": [
        "i = 0\n",
        "j = 0\n",
        "\n",
        "for i in range(2, 10) :\n",
        "  for j in range(1, 10) :\n",
        "    print(i, \"X\",j, \"=\", i * j)\n",
        "  print(\"\")"
      ]
    },
    {
      "cell_type": "code",
      "source": [
        "for i in range(0, 3, 1) :\n",
        "  print(i, \": 난생처음 파이썬은 재밌습니다.\")"
      ],
      "metadata": {
        "id": "ZpVQ9ON8WWSs"
      },
      "execution_count": null,
      "outputs": []
    },
    {
      "cell_type": "code",
      "source": [
        "i=0\n",
        "while (i<3) :\n",
        "  print(i\" : 난생처음 파이썬은 재미있습니다. ^^\")\n",
        "  i +=1"
      ],
      "metadata": {
        "id": "0C7oZMu6WltF"
      },
      "execution_count": null,
      "outputs": []
    },
    {
      "cell_type": "code",
      "source": [
        "hap = 0\n",
        "a, b = 0, 0\n",
        "\n",
        "while True :\n",
        "  a = int(input(\"숫자1 ==> \"))\n",
        "  b = int(input(\"숫자2 ==> \"))\n",
        "\n",
        "  hap = a + b\n",
        "  print(a, \"+\", b, \"=\", hap"
      ],
      "metadata": {
        "id": "zDAJUpsVXZ6M"
      },
      "execution_count": null,
      "outputs": []
    },
    {
      "cell_type": "code",
      "source": [
        "int \n",
        "\n",
        "count = 0\n",
        "while True :\n",
        "  r1 = random.randint(1,6)\n",
        "  r2 = random.randint(1,6)\n",
        "  r3 = random.randint(1,6)\n",
        "  count = count + 1\n",
        "  if r1 == r2 == r3 :\n",
        "    break\n",
        "  print(\"3개의 주사위는 모두 \".r1. \"입니다.\")\n",
        "  print(\"같은 숫자가 나오기까지 \", count. \"번 던졌습니다.\") "
      ],
      "metadata": {
        "id": "PbNFPCZdYu4h"
      },
      "execution_count": null,
      "outputs": []
    },
    {
      "cell_type": "code",
      "source": [
        "import random\n",
        "\n",
        "compute, user = 0,0\n",
        "\n",
        "for i in range(1,11) :\n",
        "  computer = random,randint(1, 5)\n",
        "  print(\"게임\", i, \"회:\", end='')\n",
        "  user = int(input(\"컴퓨터가 생각한 숫자는 ?\"))\n",
        "\n",
        "  if computer == user :\n",
        "    print(\"맞혔네요. 축하합니다!\")\n",
        "    break\n",
        "  else :\n",
        "    pirnt(\"아까워요.\", computer,\"였는데요. 다시 해보세요.ㅠ\")\n",
        "    continue\n",
        "print(\"게임을 마칩니다.\")"
      ],
      "metadata": {
        "colab": {
          "base_uri": "https://localhost:8080/",
          "height": 245
        },
        "id": "CKxk8H5KdRr2",
        "outputId": "4daffb17-6e45-49b6-a221-6458c5650176"
      },
      "execution_count": 19,
      "outputs": [
        {
          "output_type": "error",
          "ename": "NameError",
          "evalue": "ignored",
          "traceback": [
            "\u001b[0;31m---------------------------------------------------------------------------\u001b[0m",
            "\u001b[0;31mNameError\u001b[0m                                 Traceback (most recent call last)",
            "\u001b[0;32m<ipython-input-19-881bcbc6df7f>\u001b[0m in \u001b[0;36m<module>\u001b[0;34m\u001b[0m\n\u001b[1;32m      4\u001b[0m \u001b[0;34m\u001b[0m\u001b[0m\n\u001b[1;32m      5\u001b[0m \u001b[0;32mfor\u001b[0m \u001b[0mi\u001b[0m \u001b[0;32min\u001b[0m \u001b[0mrange\u001b[0m\u001b[0;34m(\u001b[0m\u001b[0;36m1\u001b[0m\u001b[0;34m,\u001b[0m\u001b[0;36m11\u001b[0m\u001b[0;34m)\u001b[0m \u001b[0;34m:\u001b[0m\u001b[0;34m\u001b[0m\u001b[0;34m\u001b[0m\u001b[0m\n\u001b[0;32m----> 6\u001b[0;31m   \u001b[0mcomputer\u001b[0m \u001b[0;34m=\u001b[0m \u001b[0mrandom\u001b[0m\u001b[0;34m,\u001b[0m\u001b[0mrandint\u001b[0m\u001b[0;34m(\u001b[0m\u001b[0;36m1\u001b[0m\u001b[0;34m,\u001b[0m \u001b[0;36m5\u001b[0m\u001b[0;34m)\u001b[0m\u001b[0;34m\u001b[0m\u001b[0;34m\u001b[0m\u001b[0m\n\u001b[0m\u001b[1;32m      7\u001b[0m   \u001b[0mprint\u001b[0m\u001b[0;34m(\u001b[0m\u001b[0;34m\"게임\"\u001b[0m\u001b[0;34m,\u001b[0m \u001b[0mi\u001b[0m\u001b[0;34m,\u001b[0m \u001b[0;34m\"회:\"\u001b[0m\u001b[0;34m,\u001b[0m \u001b[0mend\u001b[0m\u001b[0;34m=\u001b[0m\u001b[0;34m''\u001b[0m\u001b[0;34m)\u001b[0m\u001b[0;34m\u001b[0m\u001b[0;34m\u001b[0m\u001b[0m\n\u001b[1;32m      8\u001b[0m   \u001b[0muser\u001b[0m \u001b[0;34m=\u001b[0m \u001b[0mint\u001b[0m\u001b[0;34m(\u001b[0m\u001b[0minput\u001b[0m\u001b[0;34m(\u001b[0m\u001b[0;34m\"컴퓨터가 생각한 숫자는 ?\"\u001b[0m\u001b[0;34m)\u001b[0m\u001b[0;34m)\u001b[0m\u001b[0;34m\u001b[0m\u001b[0;34m\u001b[0m\u001b[0m\n",
            "\u001b[0;31mNameError\u001b[0m: name 'randint' is not defined"
          ]
        }
      ]
    },
    {
      "cell_type": "code",
      "source": [],
      "metadata": {
        "id": "fNavz_ZIfEZy"
      },
      "execution_count": null,
      "outputs": []
    }
  ]
}