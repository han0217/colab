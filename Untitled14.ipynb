{
  "nbformat": 4,
  "nbformat_minor": 0,
  "metadata": {
    "colab": {
      "provenance": [],
      "authorship_tag": "ABX9TyNgg9J9+IQLHtXIH8OGTEJd",
      "include_colab_link": true
    },
    "kernelspec": {
      "name": "python3",
      "display_name": "Python 3"
    },
    "language_info": {
      "name": "python"
    }
  },
  "cells": [
    {
      "cell_type": "markdown",
      "metadata": {
        "id": "view-in-github",
        "colab_type": "text"
      },
      "source": [
        "<a href=\"https://colab.research.google.com/github/han0217/colab/blob/main/Untitled14.ipynb\" target=\"_parent\"><img src=\"https://colab.research.google.com/assets/colab-badge.svg\" alt=\"Open In Colab\"/></a>"
      ]
    },
    {
      "cell_type": "code",
      "execution_count": 1,
      "metadata": {
        "colab": {
          "base_uri": "https://localhost:8080/"
        },
        "id": "332g1tZJYZj0",
        "outputId": "129fb9fd-7589-4dc8-e716-3e3237a9f66e"
      },
      "outputs": [
        {
          "output_type": "stream",
          "name": "stdout",
          "text": [
            "time.struct_time(tm_year=1970, tm_mon=1, tm_mday=1, tm_hour=0, tm_min=0, tm_sec=0, tm_wday=3, tm_yday=1, tm_isdst=0)\n",
            "1665447529.5239072\n"
          ]
        }
      ],
      "source": [
        "import time\n",
        "\n",
        "utc = time.time()\n",
        "epoch = time.gmtime(0)\n",
        "\n",
        "print(epoch)\n",
        "print(utc)"
      ]
    },
    {
      "cell_type": "code",
      "source": [
        "import time\n",
        "from datetime import datetime\n",
        "\n",
        "now = '2022-10-11'\n",
        "after = '2023-02-18'\n",
        "\n",
        "tn = time.mktime(datetime.strptime(now, '%Y-%m-%d').timetuple())\n",
        "ta = time.mktime(datetime.strptime(after, '%Y-%m-%d').timetuple())\n",
        "dday = ta - tn\n",
        "dday = dday / (24*60*60)\n",
        "print(\"졸업까지 dday\", dday)"
      ],
      "metadata": {
        "colab": {
          "base_uri": "https://localhost:8080/"
        },
        "id": "RCqgiPPYbDKY",
        "outputId": "e6cb1196-1fd3-4d62-d73e-ba86486ba243"
      },
      "execution_count": 5,
      "outputs": [
        {
          "output_type": "stream",
          "name": "stdout",
          "text": [
            "졸업까지 dday 130.0\n"
          ]
        }
      ]
    },
    {
      "cell_type": "code",
      "source": [
        "def passwd_check(passwd) :\n",
        "  if len(passwd) >=8 :\n",
        "    print(\"8자리 이상\")\n",
        "  else :\n",
        "    print(\"오류! 비밀번호가 규칙에 맞지 않습니다.\")\n",
        "\n",
        "passwd = input(\"새로운 비밀번호를 입력하세요 : \")\n",
        "\n",
        "passwd_check(passwd)"
      ],
      "metadata": {
        "colab": {
          "base_uri": "https://localhost:8080/"
        },
        "id": "2vntB-G5fsgl",
        "outputId": "be4e234d-f6b2-468f-a98d-d3fe7a0c6fe5"
      },
      "execution_count": 7,
      "outputs": [
        {
          "output_type": "stream",
          "name": "stdout",
          "text": [
            "새로운 비밀번호를 입력하세요 : abcd1234\n",
            "8자리 이상\n"
          ]
        }
      ]
    }
  ]
}